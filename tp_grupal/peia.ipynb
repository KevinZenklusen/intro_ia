{
 "cells": [
  {
   "cell_type": "code",
   "execution_count": 7,
   "metadata": {},
   "outputs": [
    {
     "data": {
      "text/html": [
       "<div>\n",
       "<style scoped>\n",
       "    .dataframe tbody tr th:only-of-type {\n",
       "        vertical-align: middle;\n",
       "    }\n",
       "\n",
       "    .dataframe tbody tr th {\n",
       "        vertical-align: top;\n",
       "    }\n",
       "\n",
       "    .dataframe thead th {\n",
       "        text-align: right;\n",
       "    }\n",
       "</style>\n",
       "<table border=\"1\" class=\"dataframe\">\n",
       "  <thead>\n",
       "    <tr style=\"text-align: right;\">\n",
       "      <th></th>\n",
       "      <th>Unnamed: 0</th>\n",
       "      <th>Height</th>\n",
       "      <th>Weight</th>\n",
       "    </tr>\n",
       "  </thead>\n",
       "  <tbody>\n",
       "    <tr>\n",
       "      <th>0</th>\n",
       "      <td>0</td>\n",
       "      <td>175.948010</td>\n",
       "      <td>61.788438</td>\n",
       "    </tr>\n",
       "    <tr>\n",
       "      <th>1</th>\n",
       "      <td>1</td>\n",
       "      <td>172.539203</td>\n",
       "      <td>58.731999</td>\n",
       "    </tr>\n",
       "    <tr>\n",
       "      <th>2</th>\n",
       "      <td>2</td>\n",
       "      <td>175.031019</td>\n",
       "      <td>56.750165</td>\n",
       "    </tr>\n",
       "    <tr>\n",
       "      <th>3</th>\n",
       "      <td>3</td>\n",
       "      <td>175.791647</td>\n",
       "      <td>62.793462</td>\n",
       "    </tr>\n",
       "    <tr>\n",
       "      <th>4</th>\n",
       "      <td>4</td>\n",
       "      <td>167.555393</td>\n",
       "      <td>61.026676</td>\n",
       "    </tr>\n",
       "    <tr>\n",
       "      <th>...</th>\n",
       "      <td>...</td>\n",
       "      <td>...</td>\n",
       "      <td>...</td>\n",
       "    </tr>\n",
       "    <tr>\n",
       "      <th>995</th>\n",
       "      <td>995</td>\n",
       "      <td>169.884852</td>\n",
       "      <td>62.780127</td>\n",
       "    </tr>\n",
       "    <tr>\n",
       "      <th>996</th>\n",
       "      <td>996</td>\n",
       "      <td>175.230257</td>\n",
       "      <td>59.082308</td>\n",
       "    </tr>\n",
       "    <tr>\n",
       "      <th>997</th>\n",
       "      <td>997</td>\n",
       "      <td>175.719359</td>\n",
       "      <td>53.416672</td>\n",
       "    </tr>\n",
       "    <tr>\n",
       "      <th>998</th>\n",
       "      <td>998</td>\n",
       "      <td>176.353191</td>\n",
       "      <td>58.266070</td>\n",
       "    </tr>\n",
       "    <tr>\n",
       "      <th>999</th>\n",
       "      <td>999</td>\n",
       "      <td>178.721487</td>\n",
       "      <td>60.828456</td>\n",
       "    </tr>\n",
       "  </tbody>\n",
       "</table>\n",
       "<p>1000 rows × 3 columns</p>\n",
       "</div>"
      ],
      "text/plain": [
       "     Unnamed: 0      Height     Weight\n",
       "0             0  175.948010  61.788438\n",
       "1             1  172.539203  58.731999\n",
       "2             2  175.031019  56.750165\n",
       "3             3  175.791647  62.793462\n",
       "4             4  167.555393  61.026676\n",
       "..          ...         ...        ...\n",
       "995         995  169.884852  62.780127\n",
       "996         996  175.230257  59.082308\n",
       "997         997  175.719359  53.416672\n",
       "998         998  176.353191  58.266070\n",
       "999         999  178.721487  60.828456\n",
       "\n",
       "[1000 rows x 3 columns]"
      ]
     },
     "execution_count": 7,
     "metadata": {},
     "output_type": "execute_result"
    }
   ],
   "source": [
    "# Se importan las librerías requeridas\n",
    "import pandas as pd\n",
    "import statsmodels.api as sm\n",
    "\n",
    "# Se cargan los datos desde el archivo CSV\n",
    "data = pd.read_csv('Height_Weight.csv')\n",
    "\n",
    "# Aquí la notebook de Jupyter muestra una tabla con los valores del CSV\n",
    "data\n",
    "\n"
   ]
  },
  {
   "cell_type": "code",
   "execution_count": 9,
   "metadata": {},
   "outputs": [
    {
     "name": "stdout",
     "output_type": "stream",
     "text": [
      "β0: -44.73959679818133\n",
      "β1: 0.5921842228577838\n"
     ]
    },
    {
     "name": "stderr",
     "output_type": "stream",
     "text": [
      "C:\\Users\\Windows\\AppData\\Local\\Temp\\ipykernel_20420\\1862777479.py:12: FutureWarning: Series.__getitem__ treating keys as positions is deprecated. In a future version, integer keys will always be treated as labels (consistent with DataFrame behavior). To access a value by position, use `ser.iloc[pos]`\n",
      "  beta0 = model.params[0]\n",
      "C:\\Users\\Windows\\AppData\\Local\\Temp\\ipykernel_20420\\1862777479.py:13: FutureWarning: Series.__getitem__ treating keys as positions is deprecated. In a future version, integer keys will always be treated as labels (consistent with DataFrame behavior). To access a value by position, use `ser.iloc[pos]`\n",
      "  beta1 = model.params[1]\n"
     ]
    }
   ],
   "source": [
    "# Se definen las variables independiente (altura) y dependiente (peso)\n",
    "X = data['Height']\n",
    "y = data['Weight']\n",
    "\n",
    "# Se agregar β0\n",
    "X = sm.add_constant(X)\n",
    "\n",
    "# Se ajusta el modelo de regresión lineal (En este caso mínimos cuadrados)\n",
    "model = sm.OLS(y, X).fit()\n",
    "\n",
    "# Se obtienen los coeficientes β0 y β1\n",
    "beta0 = model.params[0]\n",
    "beta1 = model.params[1]\n",
    "\n",
    "# Se muestra en pantalla los coeficientes β0 y β1\n",
    "print(f'β0: {beta0}')\n",
    "print(f'β1: {beta1}')"
   ]
  }
 ],
 "metadata": {
  "kernelspec": {
   "display_name": "Python 3",
   "language": "python",
   "name": "python3"
  },
  "language_info": {
   "codemirror_mode": {
    "name": "ipython",
    "version": 3
   },
   "file_extension": ".py",
   "mimetype": "text/x-python",
   "name": "python",
   "nbconvert_exporter": "python",
   "pygments_lexer": "ipython3",
   "version": "3.10.11"
  }
 },
 "nbformat": 4,
 "nbformat_minor": 2
}
