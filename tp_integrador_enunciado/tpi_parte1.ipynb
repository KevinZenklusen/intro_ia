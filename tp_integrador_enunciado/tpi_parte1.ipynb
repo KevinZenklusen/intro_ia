{
  "cells": [
    {
      "attachments": {},
      "cell_type": "markdown",
      "id": "07289bb0",
      "metadata": {},
      "source": [
        "# Trabajo integrador - Parte 1\n",
        "## Python y Numpy\n",
        "\n",
        "**Nombre**:"
      ]
    },
    {
      "cell_type": "code",
      "execution_count": 2,
      "id": "aaf94e0a",
      "metadata": {
        "id": "aaf94e0a"
      },
      "outputs": [],
      "source": [
        "import numpy as np"
      ]
    },
    {
      "attachments": {},
      "cell_type": "markdown",
      "id": "0ffe9554",
      "metadata": {},
      "source": [
        "## Ejercicio 1\n",
        "\n",
        "Dada una matriz en formato *numpy array*, donde cada fila de la matriz representa un vector matemático, se requiere computar las normas $l_0$, $l_1$, $l_2$, $l_{\\infty}$, según la siguientes definiciones:\n",
        "\n",
        "\\begin{equation}\n",
        "    ||\\mathbf{x}||^{p} = \\bigg(\\sum_{j=1}^{n}{|x_i|^p}\\bigg)^{\\frac{1}{p}}\n",
        "\\end{equation}\n",
        "\n",
        "con los casos especiales para $p=0$ y $p=\\infty$ siendo:\n",
        "\n",
        "\\begin{equation}\n",
        "    \\begin{array}{rcl}\n",
        "        ||\\mathbf{x}||_0 & = & \\bigg(\\sum_{j=1 \\wedge x_j != 0}{|x_i|}\\bigg)\\\\\n",
        "        ||\\mathbf{x}||_{\\infty} & = & \\max_{i}{|x_i|}\\\\\n",
        "    \\end{array}\n",
        "\\end{equation}"
      ]
    },
    {
      "cell_type": "code",
      "execution_count": 20,
      "id": "0bdb0ee3",
      "metadata": {},
      "outputs": [
        {
          "name": "stdout",
          "output_type": "stream",
          "text": [
            "17.0\n",
            "10.535653752852738\n",
            "4\n",
            "9\n"
          ]
        }
      ],
      "source": [
        "# Norma p si p > 0 y p < inf\n",
        "\n",
        "def norma_p(matriz, p):\n",
        "    suma_potencias = np.sum(np.abs(matriz) ** p)\n",
        "    norma_p = suma_potencias ** (1 / p)\n",
        "    return norma_p\n",
        "\n",
        "# Norma p si p = 0\n",
        "\n",
        "def norma_0(vector):\n",
        "    norma_0 = np.count_nonzero(vector)\n",
        "    return norma_0\n",
        "\n",
        "#Norma p si p = inf\n",
        "\n",
        "def norma_inf(vector):\n",
        "    norma_inf = np.max(np.abs(vector))\n",
        "    return norma_inf\n",
        "\n",
        "\n",
        "matriz = np.array([[5, 9], [-2, 1]])\n",
        "\n",
        "print(norma_p(matriz,1))\n",
        "print(norma_p(matriz,2))\n",
        "print(norma_0(matriz))\n",
        "print(norma_inf(matriz))\n",
        "\n",
        "\n",
        "# En el caso de utilizar las funciones de numpy para realizar estos cálculos, lso resultados obtenidos son diferentes.\n",
        "# Esto se debe a que numpy no utiliza las definiciones expresadas en el enunciado sino las descriptas en este documento:\n",
        "# https://metodosnumericosb.fi.unsj.edu.ar/wp-content/uploads/2021/08/Clase-1-de-Ecuaciones-No-Lineales.pdf"
      ]
    },
    {
      "attachments": {},
      "cell_type": "markdown",
      "id": "dd66d862",
      "metadata": {},
      "source": [
        "## Ejercicio 2\n",
        "\n",
        "En clasificación contamos con dos arreglos, la “verdad” y la “predicción”. Cada elemento de los arreglos pueden tomar dos valores, “True” (representado por 1) y “False” (representado por 0). Entonces podemos definir 4 variables:\n",
        "\n",
        "* True Positive (TP): El valor verdadero es 1 y el valor predicho es 1\n",
        "* True Negative (TN): El valor verdadero es 0 y el valor predicho es 0\n",
        "* False Positive (FP): El valor verdadero es 0 y el valor predicho es 1\n",
        "* False Negative (FN): El valor verdadero es 1 y el valor predicho es 0\n",
        "\n",
        "A partir de esto definimos:\n",
        "\n",
        "* Precision = TP / (TP + FP)\n",
        "* Recall = TP / (TP + FN)\n",
        "* Accuracy = (TP + TN) / (TP + TN + FP + FN)\n",
        " \n",
        "Calcular las 3 métricas con Numpy y operaciones vectorizadas."
      ]
    },
    {
      "cell_type": "code",
      "execution_count": 22,
      "id": "794dcd58",
      "metadata": {},
      "outputs": [
        {
          "name": "stdout",
          "output_type": "stream",
          "text": [
            "Precision: 0.5\n",
            "Recall: 0.5\n",
            "Accuracy: 0.4\n"
          ]
        }
      ],
      "source": [
        "truth = np.array([1,1,0,1,1,1,0,0,0,1])\n",
        "prediction = np.array([1,1,1,1,0,0,1,1,0,0])\n",
        "\n",
        "def precision(prediction, truth):\n",
        "    true_positives = np.sum(np.logical_and(prediction == 1, truth == 1))\n",
        "    false_positives = np.sum(np.logical_and(prediction == 1, truth == 0))\n",
        "    \n",
        "    precision = true_positives / (true_positives + false_positives)\n",
        "    return precision if true_positives + false_positives != 0 else 0\n",
        "\n",
        "def recall(prediction, truth):\n",
        "    true_positives = np.sum(np.logical_and(prediction == 1, truth == 1))\n",
        "    false_negatives = np.sum(np.logical_and(prediction == 0, truth == 1))\n",
        "    \n",
        "    recall = true_positives / (true_positives + false_negatives)\n",
        "    return recall if true_positives + false_negatives != 0 else 0\n",
        "\n",
        "def accuracy(prediction, truth):\n",
        "    correctos = np.sum(prediction == truth)\n",
        "    total = len(truth)\n",
        "    \n",
        "    accuracy = correctos / total\n",
        "    return accuracy\n",
        "\n",
        "\n",
        "print(\"Precision:\", precision(prediction, truth))\n",
        "print(\"Recall:\", recall(prediction, truth))\n",
        "print(\"Accuracy:\", accuracy(prediction, truth))"
      ]
    },
    {
      "attachments": {},
      "cell_type": "markdown",
      "id": "d0ac6f6f",
      "metadata": {},
      "source": [
        "## Ejercicio 3\n",
        "\n",
        "Crear una función que separe los datos en train-validation-test. Debe recibir de parametros:\n",
        "\n",
        "- X: Array o Dataframe que contiene los datos de entrada del sistema.\n",
        "- y: Array o Dataframe que contiene la(s) variable(s) target del problema.\n",
        "- train_percentage: _float_ el porcentaje de training.\n",
        "- test_percentage: _float_ el porcentaje de testing.\n",
        "- val_percentage: _float_ el porcentaje de validación.\n",
        "- shuffle: _bool_ determina si el split debe hacerse de manera random o no.\n",
        "\n",
        "Hints: \n",
        "\n",
        "* Usar Indexing y slicing\n",
        "* Usar np.random.[...]"
      ]
    },
    {
      "cell_type": "code",
      "execution_count": 23,
      "id": "ca85fc66",
      "metadata": {},
      "outputs": [
        {
          "name": "stdout",
          "output_type": "stream",
          "text": [
            "Tamaño de X_train: 600\n",
            "Tamaño de X_val: 200\n",
            "Tamaño de X_test: 200\n"
          ]
        }
      ],
      "source": [
        "# En esta función se supone que el usuario pasa los valores de train, test y val de forma que sumen 1.\n",
        "# Esto debiera validarse en una implementación completa.\n",
        "def split(X_input,\n",
        "          Y_input,\n",
        "          train_size=0.7,\n",
        "          val_size=0.15,\n",
        "          test_size=0.15,\n",
        "          random_state=42,\n",
        "          shuffle=True):\n",
        "      \n",
        "      # Se valida si los valores train, test y val son coherentes...\n",
        "\n",
        "      if shuffle:\n",
        "            np.random.seed(random_state)\n",
        "            indices = np.random.permutation(len(X_input))\n",
        "            X_input = X_input[indices]\n",
        "            Y_input = Y_input[indices]\n",
        "\n",
        "      train_end = int(len(X_input) * train_size)\n",
        "      val_end = int(len(X_input) * (train_size + val_size))\n",
        "\n",
        "      X_train, Y_train = X_input[:train_end], Y_input[:train_end]\n",
        "      X_val, Y_val = X_input[train_end:val_end], Y_input[train_end:val_end]\n",
        "      X_test, Y_test = X_input[val_end:], Y_input[val_end:]\n",
        "\n",
        "      return X_train, X_val, X_test, Y_train, Y_val, Y_test\n",
        "\n",
        "X_ejemplo = np.random.rand(1000, 5)  # Datos de entrada, matriz de 1000 filas y 5 columnas\n",
        "Y_ejemplo = np.random.randint(0, 2, size=(1000,))  # Datos de salida binarios\n",
        "\n",
        "# Llamo a la función split con valores proporcionales\n",
        "X_train, X_val, X_test, Y_train, Y_val, Y_test = split(X_ejemplo, Y_ejemplo, train_size=0.6, val_size=0.2, test_size=0.2)\n",
        "\n",
        "print(\"Tamaño de X_train:\", len(X_train))\n",
        "print(\"Tamaño de X_val:\", len(X_val))\n",
        "print(\"Tamaño de X_test:\", len(X_test))\n"
      ]
    }
  ],
  "metadata": {
    "colab": {
      "collapsed_sections": [],
      "name": "Practica_clase_3.ipynb",
      "provenance": []
    },
    "kernelspec": {
      "display_name": "Python 3.10.7 64-bit",
      "language": "python",
      "name": "python3"
    },
    "language_info": {
      "codemirror_mode": {
        "name": "ipython",
        "version": 3
      },
      "file_extension": ".py",
      "mimetype": "text/x-python",
      "name": "python",
      "nbconvert_exporter": "python",
      "pygments_lexer": "ipython3",
      "version": "3.10.11"
    },
    "vscode": {
      "interpreter": {
        "hash": "b5c22da4a52024410f64f9c5a5e2b4ffeeb944a5ed00e8825a42174cdab30315"
      }
    }
  },
  "nbformat": 4,
  "nbformat_minor": 5
}
